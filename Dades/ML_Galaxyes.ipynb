{
 "cells": [
  {
   "cell_type": "markdown",
   "id": "c4bce45b",
   "metadata": {},
   "source": [
    "# Data Retrieval"
   ]
  },
  {
   "cell_type": "code",
   "execution_count": 1,
   "id": "05e6e6e5",
   "metadata": {},
   "outputs": [],
   "source": [
    "import pandas as pd\n",
    "from astroquery.utils.tap.core import TapPlus # library to query astronomical databases, TAP services\n",
    "\n",
    "pd.set_option(\"display.max_rows\", 500) # to display more rows in pandas DataFrames\n",
    "pd.set_option(\"display.max_columns\", 500)"
   ]
  },
  {
   "cell_type": "code",
   "execution_count": 2,
   "id": "ae47b2f4",
   "metadata": {},
   "outputs": [],
   "source": [
    "# Connect to the TAP service\n",
    "tap = TapPlus(url=\"http://tap.roe.ac.uk/ssa\")\n",
    "\n",
    "adql = \"\"\"\n",
    "SELECT TOP 1000\n",
    "    z.*,\n",
    "    p.*\n",
    "FROM BestDR9.ZooSpec AS z \n",
    "JOIN BestDR7.PhotoObj AS p\n",
    "  ON p.objid = z.dr7objid\n",
    "\"\"\"\n",
    "#selects all the columns of both tables and joins them on the objid\n",
    "\n",
    "# Run synchronously, the code will wait until the job is finished, only after that it will continue\n",
    "# Asynchronous the program sends the adql query and continue running the code\n",
    "job = tap.launch_job(adql)\n",
    "results = job.get_results()\n",
    "df = results.to_pandas() # convert to pandas DataFrame"
   ]
  },
  {
   "cell_type": "code",
   "execution_count": 3,
   "id": "55980abc",
   "metadata": {},
   "outputs": [],
   "source": [
    "def safe_to_numeric(col):\n",
    "    try:\n",
    "        return pd.to_numeric(col, errors=\"raise\")\n",
    "    except Exception:\n",
    "        return col  # leave unchanged if it can't be fully parsed\n",
    "\n",
    "\n",
    "df = df.apply(safe_to_numeric).set_index(\"dr7objid\")"
   ]
  },
  {
   "cell_type": "markdown",
   "id": "a5d2317c",
   "metadata": {},
   "source": [
    "# Data Filtering\n"
   ]
  },
  {
   "cell_type": "code",
   "execution_count": 4,
   "id": "7bb7f751",
   "metadata": {},
   "outputs": [],
   "source": [
    "mask = (\n",
    "    # correct magnitudes\n",
    "    (df[\"modelMag_u\"] > -30)\n",
    "    & (df[\"modelMag_g\"] > -30)\n",
    "    & (df[\"modelMag_r\"] > -30)\n",
    "    & (df[\"modelMag_i\"] > -30)\n",
    "    & (df[\"modelMag_z\"] > -30)\n",
    "    &\n",
    "    # reasonable errors\n",
    "    (df[\"modelMagErr_u\"] < 0.5)\n",
    "    & (df[\"modelMagErr_g\"] < 0.05)\n",
    "    & (df[\"modelMagErr_r\"] < 0.05)\n",
    "    & (df[\"modelMagErr_i\"] < 0.05)\n",
    "    & (df[\"modelMagErr_z\"] < 0.1)\n",
    "    &\n",
    "    # very certain about the classification\n",
    "    ((df[\"p_cs_debiased\"] >= 0.9) | (df[\"p_el_debiased\"] >= 0.9))\n",
    "    &\n",
    "    # medium size\n",
    "    (df[\"petroR90_r\"] * 2 * 1.5 / 0.4 < 64)\n",
    "    & (df[\"petroR90_r\"] * 2 / 0.4 > 20)\n",
    ")"
   ]
  },
  {
   "cell_type": "code",
   "execution_count": 15,
   "id": "b37c389d",
   "metadata": {},
   "outputs": [],
   "source": [
    "cols_to_keep = (\n",
    "    [\n",
    "        \"specobjid\",\n",
    "        \"objid\",\n",
    "        #\"dr7objid\",\n",
    "        \"ra\",\n",
    "        \"dec\",\n",
    "        \"p_el_debiased\",\n",
    "        \"p_cs_debiased\",\n",
    "        \"spiral\",\n",
    "        \"elliptical\",\n",
    "    ]\n",
    "    + [\"petroR50_r\", \"petroR90_r\"]\n",
    "    + [f\"modelMag_{f}\" for f in \"ugriz\"]\n",
    "    + [f\"extinction_{f}\" for f in \"ugriz\"]\n",
    ")\n",
    "df_filtered = df[mask][cols_to_keep]"
   ]
  },
  {
   "cell_type": "code",
   "execution_count": 19,
   "id": "22c28261",
   "metadata": {},
   "outputs": [],
   "source": [
    "from mymodule import clean_data"
   ]
  },
  {
   "cell_type": "code",
   "execution_count": 20,
   "id": "4cff0e95",
   "metadata": {},
   "outputs": [
    {
     "ename": "NameError",
     "evalue": "name 'm' is not defined",
     "output_type": "error",
     "traceback": [
      "\u001b[0;31m---------------------------------------------------------------------------\u001b[0m",
      "\u001b[0;31mNameError\u001b[0m                                 Traceback (most recent call last)",
      "Cell \u001b[0;32mIn[20], line 1\u001b[0m\n\u001b[0;32m----> 1\u001b[0m df_filtered_mymodule \u001b[38;5;241m=\u001b[39m \u001b[43mclean_data\u001b[49m\u001b[43m(\u001b[49m\u001b[43mdf\u001b[49m\u001b[43m)\u001b[49m\n",
      "File \u001b[0;32m~/Master-Git/Dades/mymodule.py:9\u001b[0m, in \u001b[0;36mclean_data\u001b[0;34m(df)\u001b[0m\n\u001b[1;32m      7\u001b[0m cols_to_keep = ['specobjid', 'objid', 'dr7objid', 'ra', 'dec', 'p_el_debiased', 'p_cs_debiased', 'spiral', 'elliptical'] + \\\n\u001b[1;32m      8\u001b[0m     ['petroR50_r', 'petroR90_r'] + [f'modelMag_{f}' for f in \"ugriz\"] + [f'extinction_{f}' for f in \"ugriz\"]\n\u001b[0;32m----> 9\u001b[0m df_filtered = df[m][cols_to_keep]\n\u001b[1;32m     10\u001b[0m \n\u001b[1;32m     11\u001b[0m mask = (\n",
      "\u001b[0;31mNameError\u001b[0m: name 'm' is not defined"
     ]
    }
   ],
   "source": [
    "\n",
    "\n",
    "df_filtered_mymodule = clean_data(df)"
   ]
  },
  {
   "cell_type": "markdown",
   "id": "cff3b610",
   "metadata": {},
   "source": [
    "# Image cutout"
   ]
  },
  {
   "cell_type": "code",
   "execution_count": 9,
   "id": "fc24be07",
   "metadata": {},
   "outputs": [
    {
     "data": {
      "image/jpeg": "[encoded data removed]",
      "text/plain": [
       "<IPython.core.display.Image object>"
      ]
     },
     "metadata": {},
     "output_type": "display_data"
    }
   ],
   "source": [
    "import urllib\n",
    "\n",
    "from IPython.display import Image, display\n",
    "\n",
    "\n",
    "IMAGE_PIXSCALE = 0.4  # arcsec/pixel\n",
    "IMAGE_SIZE_PX = 64\n",
    "IMAGE_WIDTH_PX = IMAGE_SIZE_PX\n",
    "IMAGE_HEIGHT_PX = IMAGE_SIZE_PX\n",
    "OBJECT_INDEX = 1  # which object from the filtered list to download\n",
    "\n",
    "URL = (\n",
    "    \"https://skyserver.sdss.org/DR19/SkyserverWS/ImgCutout/getjpeg?\"\n",
    "    \"ra={ra}&dec={dec}&scale={scale}&width={width}&height={height}\"\n",
    ")\n",
    "\n",
    "RA = df_filtered.iloc[OBJECT_INDEX][\"ra\"]\n",
    "DEC = df_filtered.iloc[OBJECT_INDEX][\"dec\"]\n",
    "\n",
    "\n",
    "url = URL.format(ra=RA, dec=DEC, scale=IMAGE_PIXSCALE, width=IMAGE_WIDTH_PX, height=IMAGE_HEIGHT_PX)\n",
    "response = urllib.request.urlopen(url)\n",
    "blob = response.read()  # bytes of the image (JPEG)\n",
    "display(Image(blob))"
   ]
  },
  {
   "cell_type": "code",
   "execution_count": 7,
   "id": "77fffc2b",
   "metadata": {},
   "outputs": [
    {
     "data": {
      "text/plain": [
       "'https://skyserver.sdss.org/DR19/SkyserverWS/ImgCutout/getjpeg?ra=11.423208&dec=15.413806&scale=0.4&width=64&height=64'"
      ]
     },
     "execution_count": 7,
     "metadata": {},
     "output_type": "execute_result"
    }
   ],
   "source": [
    "url"
   ]
  },
  {
   "cell_type": "markdown",
   "id": "fa78f594",
   "metadata": {},
   "source": []
  }
 ],
 "metadata": {
  "kernelspec": {
   "display_name": "Python 3 (ipykernel)",
   "language": "python",
   "name": "python3"
  },
  "language_info": {
   "codemirror_mode": {
    "name": "ipython",
    "version": 3
   },
   "file_extension": ".py",
   "mimetype": "text/x-python",
   "name": "python",
   "nbconvert_exporter": "python",
   "pygments_lexer": "ipython3",
   "version": "3.10.18"
  }
 },
 "nbformat": 4,
 "nbformat_minor": 5
}
