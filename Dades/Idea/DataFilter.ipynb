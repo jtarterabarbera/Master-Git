{
 "cells": [
  {
   "cell_type": "markdown",
   "id": "9cb80a42",
   "metadata": {},
   "source": [
    "## Load the CSV data"
   ]
  },
  {
   "cell_type": "code",
   "execution_count": 1,
   "id": "2c7f6723",
   "metadata": {},
   "outputs": [],
   "source": [
    "import pandas as pd"
   ]
  },
  {
   "cell_type": "code",
   "execution_count": 2,
   "id": "fedb61ca",
   "metadata": {},
   "outputs": [],
   "source": [
    "ZOO_DATA = '/Users/julia/Desktop/Master Astro/Dades/Python Bootcamp/ZooSpecPhotoDR19_torradeflot.csv'"
   ]
  },
  {
   "cell_type": "code",
   "execution_count": 3,
   "id": "95648d20",
   "metadata": {},
   "outputs": [],
   "source": [
    "df = pd.read_csv(ZOO_DATA)"
   ]
  },
  {
   "cell_type": "markdown",
   "id": "02867cbf",
   "metadata": {},
   "source": [
    "# Filter out incorrect data"
   ]
  },
  {
   "cell_type": "markdown",
   "id": "edb5e08d",
   "metadata": {},
   "source": [
    "According to the documentation, we will be using the Model magnitude. We filter out the objects without a proper magnitude: https://www.sdss4.org/dr12/algorithms/magnitudes/\n",
    "\n",
    "We will apply a restrictive threshold in the zooSpec table to decide if an object was successfully classified\n",
    "\n",
    "We will only keep the objects that are reasonable big, but still fit comfortably in the cutouts."
   ]
  },
  {
   "cell_type": "code",
   "execution_count": 4,
   "id": "d8d9f21f",
   "metadata": {},
   "outputs": [],
   "source": [
    "m = (\n",
    "    (df.modelMag_u >-30) & (df.modelMag_g > -30) & (df.modelMag_r > -30) & (df.modelMag_i > -30) & (df.modelMag_z > -30) # correct magnitudes\n",
    "    & (df.modelMagErr_u < 0.5) & (df.modelMagErr_g < 0.05) & (df.modelMagErr_r < 0.05) & (df.modelMagErr_i < 0.05) & (df.modelMagErr_z < 0.1) # reasonable errors\n",
    "    & ((df.p_cs_debiased >= 0.9) | (df.p_el_debiased >= 0.9)) # very certain about the classification\n",
    "    & (df.petroR90_r*2*1.5/0.4 < 64) & (df.petroR90_r*2/0.4 > 20) # Medium sized\n",
    ")"
   ]
  },
  {
   "cell_type": "code",
   "execution_count": 5,
   "id": "4582768f",
   "metadata": {},
   "outputs": [
    {
     "data": {
      "text/plain": [
       "(659272, 69352)"
      ]
     },
     "execution_count": 5,
     "metadata": {},
     "output_type": "execute_result"
    }
   ],
   "source": [
    "len(df), len(df[m])"
   ]
  },
  {
   "cell_type": "code",
   "execution_count": 6,
   "id": "3d78ab2e",
   "metadata": {},
   "outputs": [],
   "source": [
    "cols_to_keep = ['specobjid', 'objid', 'dr7objid', 'ra', 'dec', 'p_el_debiased', 'p_cs_debiased', 'spiral', 'elliptical'] + \\\n",
    "    ['petroR50_r', 'petroR90_r'] + [f'modelMag_{f}' for f in \"ugriz\"] + [f'extinction_{f}' for f in \"ugriz\"]\n",
    "df_filtered = df[m][cols_to_keep]"
   ]
  },
  {
   "cell_type": "code",
   "execution_count": 7,
   "id": "95c0ed89",
   "metadata": {},
   "outputs": [],
   "source": [
    "df_filtered.to_csv('/Users/julia/Desktop/Master Astro/Dades/Python Bootcamp/ZooSpecPhotoDR19_filtered.csv')"
   ]
  }
 ],
 "metadata": {
  "kernelspec": {
   "display_name": "myenv",
   "language": "python",
   "name": "python3"
  },
  "language_info": {
   "codemirror_mode": {
    "name": "ipython",
    "version": 3
   },
   "file_extension": ".py",
   "mimetype": "text/x-python",
   "name": "python",
   "nbconvert_exporter": "python",
   "pygments_lexer": "ipython3",
   "version": "3.11.13"
  }
 },
 "nbformat": 4,
 "nbformat_minor": 5
}
